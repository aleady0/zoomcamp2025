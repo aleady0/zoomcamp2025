{
  "nbformat": 4,
  "nbformat_minor": 0,
  "metadata": {
    "colab": {
      "provenance": [],
      "authorship_tag": "ABX9TyOrGpJwJGNDBcRjjeA9cda/"
    },
    "kernelspec": {
      "name": "python3",
      "display_name": "Python 3"
    },
    "language_info": {
      "name": "python"
    }
  },
  "cells": [
    {
      "cell_type": "code",
      "execution_count": 1,
      "metadata": {
        "colab": {
          "base_uri": "https://localhost:8080/"
        },
        "id": "HomlnnBM5gT4",
        "outputId": "e55e88f5-f7be-4e03-9ae4-78249333b427"
      },
      "outputs": [
        {
          "output_type": "stream",
          "name": "stdout",
          "text": [
            "Collecting pyspark==3.3.2\n",
            "  Downloading pyspark-3.3.2.tar.gz (281.4 MB)\n",
            "\u001b[2K     \u001b[90m━━━━━━━━━━━━━━━━━━━━━━━━━━━━━━━━━━━━━━━━\u001b[0m \u001b[32m281.4/281.4 MB\u001b[0m \u001b[31m4.9 MB/s\u001b[0m eta \u001b[36m0:00:00\u001b[0m\n",
            "\u001b[?25h  Preparing metadata (setup.py) ... \u001b[?25l\u001b[?25hdone\n",
            "Requirement already satisfied: py4j in /usr/local/lib/python3.11/dist-packages (0.10.9.7)\n",
            "Collecting py4j\n",
            "  Downloading py4j-0.10.9.5-py2.py3-none-any.whl.metadata (1.5 kB)\n",
            "Downloading py4j-0.10.9.5-py2.py3-none-any.whl (199 kB)\n",
            "\u001b[2K   \u001b[90m━━━━━━━━━━━━━━━━━━━━━━━━━━━━━━━━━━━━━━━━\u001b[0m \u001b[32m199.7/199.7 kB\u001b[0m \u001b[31m10.7 MB/s\u001b[0m eta \u001b[36m0:00:00\u001b[0m\n",
            "\u001b[?25hBuilding wheels for collected packages: pyspark\n",
            "  Building wheel for pyspark (setup.py) ... \u001b[?25l\u001b[?25hdone\n",
            "  Created wheel for pyspark: filename=pyspark-3.3.2-py2.py3-none-any.whl size=281824006 sha256=fc25228fd9f7fbd711686f5edd4411e26b3192adea9d1d996ed0c6be7090fe9f\n",
            "  Stored in directory: /root/.cache/pip/wheels/47/69/84/c7c7776e2287a654536f5cba7dc54c904c03aa2c3e29206f0f\n",
            "Successfully built pyspark\n",
            "Installing collected packages: py4j, pyspark\n",
            "  Attempting uninstall: py4j\n",
            "    Found existing installation: py4j 0.10.9.7\n",
            "    Uninstalling py4j-0.10.9.7:\n",
            "      Successfully uninstalled py4j-0.10.9.7\n",
            "  Attempting uninstall: pyspark\n",
            "    Found existing installation: pyspark 3.5.5\n",
            "    Uninstalling pyspark-3.5.5:\n",
            "      Successfully uninstalled pyspark-3.5.5\n",
            "\u001b[31mERROR: pip's dependency resolver does not currently take into account all the packages that are installed. This behaviour is the source of the following dependency conflicts.\n",
            "google-spark-connect 0.5.2 requires pyspark>=3.5, but you have pyspark 3.3.2 which is incompatible.\u001b[0m\u001b[31m\n",
            "\u001b[0mSuccessfully installed py4j-0.10.9.5 pyspark-3.3.2\n"
          ]
        }
      ],
      "source": [
        "!pip install pyspark==3.3.2 py4j"
      ]
    },
    {
      "cell_type": "code",
      "source": [
        "from pyspark import SparkContext, SparkConf\n",
        "import pyspark.sql.functions as F\n",
        "\n",
        "# Настройка Spark\n",
        "\n",
        "from pyspark.sql import SparkSession\n",
        "\n",
        "# Создание SparkSession\n",
        "spark = SparkSession.builder.appName(\"weather\").getOrCreate()"
      ],
      "metadata": {
        "id": "1BSAQZ-k6ARb"
      },
      "execution_count": 10,
      "outputs": []
    },
    {
      "cell_type": "markdown",
      "source": [
        "**Question 1: Install Spark and PySpark**"
      ],
      "metadata": {
        "id": "KBC0R5HZxlvi"
      }
    },
    {
      "cell_type": "code",
      "source": [
        "spark.version"
      ],
      "metadata": {
        "colab": {
          "base_uri": "https://localhost:8080/",
          "height": 35
        },
        "id": "ep7loRmp6D5x",
        "outputId": "c49566f2-8965-4170-f093-b44fe5f555e4"
      },
      "execution_count": 3,
      "outputs": [
        {
          "output_type": "execute_result",
          "data": {
            "text/plain": [
              "'3.3.2'"
            ],
            "application/vnd.google.colaboratory.intrinsic+json": {
              "type": "string"
            }
          },
          "metadata": {},
          "execution_count": 3
        }
      ]
    },
    {
      "cell_type": "code",
      "source": [
        "! wget https://d37ci6vzurychx.cloudfront.net/trip-data/yellow_tripdata_2024-10.parquet"
      ],
      "metadata": {
        "colab": {
          "base_uri": "https://localhost:8080/"
        },
        "id": "SkAN0xf_6n1t",
        "outputId": "7ce03ac2-35de-4aa2-ef46-cfe39aff2e2a"
      },
      "execution_count": 4,
      "outputs": [
        {
          "output_type": "stream",
          "name": "stdout",
          "text": [
            "--2025-03-04 19:16:23--  https://d37ci6vzurychx.cloudfront.net/trip-data/yellow_tripdata_2024-10.parquet\n",
            "Resolving d37ci6vzurychx.cloudfront.net (d37ci6vzurychx.cloudfront.net)... 54.230.209.72, 54.230.209.200, 54.230.209.126, ...\n",
            "Connecting to d37ci6vzurychx.cloudfront.net (d37ci6vzurychx.cloudfront.net)|54.230.209.72|:443... connected.\n",
            "HTTP request sent, awaiting response... 200 OK\n",
            "Length: 64346071 (61M) [binary/octet-stream]\n",
            "Saving to: ‘yellow_tripdata_2024-10.parquet’\n",
            "\n",
            "yellow_tripdata_202 100%[===================>]  61.36M  67.1MB/s    in 0.9s    \n",
            "\n",
            "2025-03-04 19:16:24 (67.1 MB/s) - ‘yellow_tripdata_2024-10.parquet’ saved [64346071/64346071]\n",
            "\n"
          ]
        }
      ]
    },
    {
      "cell_type": "code",
      "source": [
        "df = spark.read.parquet('yellow_tripdata_2024-10.parquet')"
      ],
      "metadata": {
        "id": "ukcOcjjp8UWT"
      },
      "execution_count": 5,
      "outputs": []
    },
    {
      "cell_type": "code",
      "source": [
        "df.show(10, truncate=False)"
      ],
      "metadata": {
        "colab": {
          "base_uri": "https://localhost:8080/"
        },
        "id": "RxuVt8mE8gHX",
        "outputId": "370daf20-4edd-4ef1-b159-2757d431449c"
      },
      "execution_count": 12,
      "outputs": [
        {
          "output_type": "stream",
          "name": "stdout",
          "text": [
            "+--------+--------------------+---------------------+---------------+-------------+----------+------------------+------------+------------+------------+-----------+-----+-------+----------+------------+---------------------+------------+--------------------+-----------+\n",
            "|VendorID|tpep_pickup_datetime|tpep_dropoff_datetime|passenger_count|trip_distance|RatecodeID|store_and_fwd_flag|PULocationID|DOLocationID|payment_type|fare_amount|extra|mta_tax|tip_amount|tolls_amount|improvement_surcharge|total_amount|congestion_surcharge|Airport_fee|\n",
            "+--------+--------------------+---------------------+---------------+-------------+----------+------------------+------------+------------+------------+-----------+-----+-------+----------+------------+---------------------+------------+--------------------+-----------+\n",
            "|2       |2024-10-01 00:30:44 |2024-10-01 00:48:26  |1              |3.0          |1         |N                 |162         |246         |1           |18.4       |1.0  |0.5    |1.5       |0.0         |1.0                  |24.9        |2.5                 |0.0        |\n",
            "|1       |2024-10-01 00:12:20 |2024-10-01 00:25:25  |1              |2.2          |1         |N                 |48          |236         |1           |14.2       |3.5  |0.5    |3.8       |0.0         |1.0                  |23.0        |2.5                 |0.0        |\n",
            "|1       |2024-10-01 00:04:46 |2024-10-01 00:13:52  |1              |2.7          |1         |N                 |142         |24          |1           |13.5       |3.5  |0.5    |3.7       |0.0         |1.0                  |22.2        |2.5                 |0.0        |\n",
            "|1       |2024-10-01 00:12:10 |2024-10-01 00:23:01  |1              |3.1          |1         |N                 |233         |75          |1           |14.2       |3.5  |0.5    |2.0       |0.0         |1.0                  |21.2        |2.5                 |0.0        |\n",
            "|1       |2024-10-01 00:30:22 |2024-10-01 00:30:39  |1              |0.0          |1         |N                 |262         |262         |3           |3.0        |3.5  |0.5    |0.0       |0.0         |1.0                  |8.0         |2.5                 |0.0        |\n",
            "|2       |2024-10-01 00:31:20 |2024-10-01 00:36:00  |2              |0.97         |1         |N                 |137         |137         |1           |7.2        |1.0  |0.5    |2.44      |0.0         |1.0                  |14.64       |2.5                 |0.0        |\n",
            "|1       |2024-10-01 00:42:57 |2024-10-01 00:49:01  |1              |1.3          |1         |N                 |142         |48          |1           |7.9        |3.5  |0.5    |2.55      |0.0         |1.0                  |15.45       |2.5                 |0.0        |\n",
            "|1       |2024-10-01 00:59:55 |2024-10-01 01:02:24  |1              |0.5          |1         |N                 |230         |161         |1           |5.1        |3.5  |0.5    |2.0       |0.0         |1.0                  |12.1        |2.5                 |0.0        |\n",
            "|1       |2024-10-01 00:00:47 |2024-10-01 00:04:22  |0              |1.1          |1         |N                 |142         |237         |1           |7.2        |3.5  |0.5    |3.0       |0.0         |1.0                  |15.2        |2.5                 |0.0        |\n",
            "|1       |2024-10-01 00:17:36 |2024-10-01 00:26:22  |1              |2.2          |1         |N                 |162         |145         |1           |11.4       |3.5  |0.5    |3.3       |0.0         |1.0                  |19.7        |2.5                 |0.0        |\n",
            "+--------+--------------------+---------------------+---------------+-------------+----------+------------------+------------+------------+------------+-----------+-----+-------+----------+------------+---------------------+------------+--------------------+-----------+\n",
            "only showing top 10 rows\n",
            "\n"
          ]
        }
      ]
    },
    {
      "cell_type": "code",
      "source": [
        "df.printSchema()"
      ],
      "metadata": {
        "colab": {
          "base_uri": "https://localhost:8080/"
        },
        "id": "o6_aXf5PmicM",
        "outputId": "7acd18b9-919f-4032-bffd-0be5f9d676ac"
      },
      "execution_count": 13,
      "outputs": [
        {
          "output_type": "stream",
          "name": "stdout",
          "text": [
            "root\n",
            " |-- VendorID: integer (nullable = true)\n",
            " |-- tpep_pickup_datetime: timestamp (nullable = true)\n",
            " |-- tpep_dropoff_datetime: timestamp (nullable = true)\n",
            " |-- passenger_count: long (nullable = true)\n",
            " |-- trip_distance: double (nullable = true)\n",
            " |-- RatecodeID: long (nullable = true)\n",
            " |-- store_and_fwd_flag: string (nullable = true)\n",
            " |-- PULocationID: integer (nullable = true)\n",
            " |-- DOLocationID: integer (nullable = true)\n",
            " |-- payment_type: long (nullable = true)\n",
            " |-- fare_amount: double (nullable = true)\n",
            " |-- extra: double (nullable = true)\n",
            " |-- mta_tax: double (nullable = true)\n",
            " |-- tip_amount: double (nullable = true)\n",
            " |-- tolls_amount: double (nullable = true)\n",
            " |-- improvement_surcharge: double (nullable = true)\n",
            " |-- total_amount: double (nullable = true)\n",
            " |-- congestion_surcharge: double (nullable = true)\n",
            " |-- Airport_fee: double (nullable = true)\n",
            "\n"
          ]
        }
      ]
    },
    {
      "cell_type": "markdown",
      "source": [
        "**Question 2: Yellow October 2024**"
      ],
      "metadata": {
        "id": "8rF8NS8FxCAT"
      }
    },
    {
      "cell_type": "code",
      "source": [
        "df.repartition(4).write.parquet('./yellow_repartitioned')"
      ],
      "metadata": {
        "id": "EF7VBAeb8hsY"
      },
      "execution_count": 7,
      "outputs": []
    },
    {
      "cell_type": "code",
      "source": [
        "!du -sh ./yellow_repartitioned/*"
      ],
      "metadata": {
        "colab": {
          "base_uri": "https://localhost:8080/"
        },
        "id": "6xNVLy1E9GXH",
        "outputId": "3f6bf939-97ad-42b8-f57b-c04176ae3534"
      },
      "execution_count": 32,
      "outputs": [
        {
          "output_type": "stream",
          "name": "stdout",
          "text": [
            "25M\t./yellow_repartitioned/part-00000-3d58d84c-84b5-4af0-a17a-59aa1dddd082-c000.snappy.parquet\n",
            "25M\t./yellow_repartitioned/part-00001-3d58d84c-84b5-4af0-a17a-59aa1dddd082-c000.snappy.parquet\n",
            "25M\t./yellow_repartitioned/part-00002-3d58d84c-84b5-4af0-a17a-59aa1dddd082-c000.snappy.parquet\n",
            "25M\t./yellow_repartitioned/part-00003-3d58d84c-84b5-4af0-a17a-59aa1dddd082-c000.snappy.parquet\n",
            "0\t./yellow_repartitioned/_SUCCESS\n"
          ]
        }
      ]
    },
    {
      "cell_type": "markdown",
      "source": [
        "**Question 3: Count records**"
      ],
      "metadata": {
        "id": "7OI1_lwsw8os"
      }
    },
    {
      "cell_type": "code",
      "source": [
        "df.withColumn('pickup_date', F.to_date(df.tpep_pickup_datetime)) \\\n",
        ".filter(\"pickup_date='2024-10-15'\") \\\n",
        ".count()"
      ],
      "metadata": {
        "colab": {
          "base_uri": "https://localhost:8080/"
        },
        "id": "0as5PzLi9LD3",
        "outputId": "e7b6ad8f-67cd-406e-dcd1-5a6ea5ccb88e"
      },
      "execution_count": 28,
      "outputs": [
        {
          "output_type": "execute_result",
          "data": {
            "text/plain": [
              "128893"
            ]
          },
          "metadata": {},
          "execution_count": 28
        }
      ]
    },
    {
      "cell_type": "markdown",
      "source": [
        "**Question 4: Longest trip**"
      ],
      "metadata": {
        "id": "b0rMgQBBxNyV"
      }
    },
    {
      "cell_type": "code",
      "source": [
        "df.withColumn(\"diff_hours\", ((F.col(\"tpep_dropoff_datetime\").cast(\"long\") - F.col(\"tpep_pickup_datetime\").cast(\"long\")) / 3600).cast(\"int\")) \\\n",
        ".select('tpep_pickup_datetime','tpep_dropoff_datetime','diff_hours') \\\n",
        ".agg(F.max(F.col('diff_hours'))).collect()"
      ],
      "metadata": {
        "colab": {
          "base_uri": "https://localhost:8080/"
        },
        "id": "ty2Ays2VmgBC",
        "outputId": "0cbc5c38-0cbe-42ab-b868-f6d6ecfc345d"
      },
      "execution_count": 31,
      "outputs": [
        {
          "output_type": "execute_result",
          "data": {
            "text/plain": [
              "[Row(max(diff_hours)=162)]"
            ]
          },
          "metadata": {},
          "execution_count": 31
        }
      ]
    },
    {
      "cell_type": "markdown",
      "source": [
        "**Question 5: User Interface**"
      ],
      "metadata": {
        "id": "gRyWv2lzxclJ"
      }
    },
    {
      "cell_type": "code",
      "source": [
        "4040"
      ],
      "metadata": {
        "colab": {
          "base_uri": "https://localhost:8080/"
        },
        "id": "OBronh_qptzE",
        "outputId": "68d3e5cc-6108-4b3b-add3-a66145bf9169"
      },
      "execution_count": 34,
      "outputs": [
        {
          "output_type": "execute_result",
          "data": {
            "text/plain": [
              "4040"
            ]
          },
          "metadata": {},
          "execution_count": 34
        }
      ]
    },
    {
      "cell_type": "code",
      "source": [
        "! wget https://d37ci6vzurychx.cloudfront.net/misc/taxi_zone_lookup.csv"
      ],
      "metadata": {
        "colab": {
          "base_uri": "https://localhost:8080/"
        },
        "id": "5ZyDLir0x_sS",
        "outputId": "7f38935a-af5d-4782-e4f7-517f284f3fcb"
      },
      "execution_count": 35,
      "outputs": [
        {
          "output_type": "stream",
          "name": "stdout",
          "text": [
            "--2025-03-04 20:15:38--  https://d37ci6vzurychx.cloudfront.net/misc/taxi_zone_lookup.csv\n",
            "Resolving d37ci6vzurychx.cloudfront.net (d37ci6vzurychx.cloudfront.net)... 54.230.209.72, 54.230.209.126, 54.230.209.140, ...\n",
            "Connecting to d37ci6vzurychx.cloudfront.net (d37ci6vzurychx.cloudfront.net)|54.230.209.72|:443... connected.\n",
            "HTTP request sent, awaiting response... 200 OK\n",
            "Length: 12331 (12K) [text/csv]\n",
            "Saving to: ‘taxi_zone_lookup.csv’\n",
            "\n",
            "taxi_zone_lookup.cs 100%[===================>]  12.04K  --.-KB/s    in 0.01s   \n",
            "\n",
            "2025-03-04 20:15:38 (843 KB/s) - ‘taxi_zone_lookup.csv’ saved [12331/12331]\n",
            "\n"
          ]
        }
      ]
    },
    {
      "cell_type": "code",
      "source": [
        "zones = spark.read.option(\"header\", \"true\").csv('taxi_zone_lookup.csv')\n",
        "zones.show(5, False)\n",
        "zones.printSchema()"
      ],
      "metadata": {
        "colab": {
          "base_uri": "https://localhost:8080/"
        },
        "id": "asaR1_EXzLaU",
        "outputId": "196290c3-d373-40d4-c2c4-360ec4e32af0"
      },
      "execution_count": 38,
      "outputs": [
        {
          "output_type": "stream",
          "name": "stdout",
          "text": [
            "+----------+-------------+-----------------------+------------+\n",
            "|LocationID|Borough      |Zone                   |service_zone|\n",
            "+----------+-------------+-----------------------+------------+\n",
            "|1         |EWR          |Newark Airport         |EWR         |\n",
            "|2         |Queens       |Jamaica Bay            |Boro Zone   |\n",
            "|3         |Bronx        |Allerton/Pelham Gardens|Boro Zone   |\n",
            "|4         |Manhattan    |Alphabet City          |Yellow Zone |\n",
            "|5         |Staten Island|Arden Heights          |Boro Zone   |\n",
            "+----------+-------------+-----------------------+------------+\n",
            "only showing top 5 rows\n",
            "\n",
            "root\n",
            " |-- LocationID: string (nullable = true)\n",
            " |-- Borough: string (nullable = true)\n",
            " |-- Zone: string (nullable = true)\n",
            " |-- service_zone: string (nullable = true)\n",
            "\n"
          ]
        }
      ]
    },
    {
      "cell_type": "markdown",
      "source": [
        "**Question 6: Least frequent pickup location zone**"
      ],
      "metadata": {
        "id": "eR4jVx5N8ITM"
      }
    },
    {
      "cell_type": "code",
      "source": [
        "df.join(zones, df.PULocationID == zones.LocationID, how='inner') \\\n",
        "  .select('Zone','tpep_pickup_datetime') \\\n",
        "  .groupBy('Zone') \\\n",
        "  .count() \\\n",
        "  .orderBy('count') \\\n",
        "  .show(5, False)"
      ],
      "metadata": {
        "colab": {
          "base_uri": "https://localhost:8080/"
        },
        "id": "pF_txU2S061t",
        "outputId": "3668e232-1275-41d0-ebb1-62133fef6ce3"
      },
      "execution_count": 47,
      "outputs": [
        {
          "output_type": "stream",
          "name": "stdout",
          "text": [
            "+---------------------------------------------+-----+\n",
            "|Zone                                         |count|\n",
            "+---------------------------------------------+-----+\n",
            "|Governor's Island/Ellis Island/Liberty Island|1    |\n",
            "|Rikers Island                                |2    |\n",
            "|Arden Heights                                |2    |\n",
            "|Green-Wood Cemetery                          |3    |\n",
            "|Jamaica Bay                                  |3    |\n",
            "+---------------------------------------------+-----+\n",
            "only showing top 5 rows\n",
            "\n"
          ]
        }
      ]
    },
    {
      "cell_type": "code",
      "source": [],
      "metadata": {
        "id": "nrPyX6Vj3ADu"
      },
      "execution_count": null,
      "outputs": []
    }
  ]
}